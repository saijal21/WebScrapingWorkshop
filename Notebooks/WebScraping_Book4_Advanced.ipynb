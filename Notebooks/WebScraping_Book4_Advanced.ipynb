{
 "cells": [
  {
   "cell_type": "markdown",
   "id": "92174d0d-7755-4ea3-8ab2-219ddaeadbbe",
   "metadata": {},
   "source": [
    "**Action Chains**"
   ]
  },
  {
   "cell_type": "markdown",
   "id": "3cf0990d-9087-44a2-bccd-6b2d3456feec",
   "metadata": {},
   "source": [
    "\n",
    "Action Chains in Selenium are used when you need to perform a sequence of complex user interactions that go beyond simple clicks or typing.\n",
    "Imagine you're using a website where you need to:\n",
    "\n",
    "- Hover over a menu to reveal a dropdown.\n",
    "- Drag and drop an item from one place to another.\n",
    "- Click and hold a button for a few seconds.\n",
    "- Right-click to open a context menu.\n",
    "\n",
    "\n",
    "These actions are more complex than just clicking or typing, and that’s where Action Chains come in. They allow you to chain together multiple actions that happen in a specific order, just like how a user would interact with a web page.\n",
    "\n",
    "\n"
   ]
  },
  {
   "cell_type": "code",
   "execution_count": 21,
   "id": "690d1f50-df87-498b-98c5-d364d3bc45a3",
   "metadata": {},
   "outputs": [],
   "source": [
    "from selenium import webdriver\n",
    "from selenium.webdriver.common.action_chains import ActionChains\n",
    "from selenium.webdriver.chrome.options import Options\n",
    "from selenium.webdriver.common.by import By\n",
    "from selenium.webdriver.support import expected_conditions as EC\n",
    "from selenium.webdriver.support.ui import WebDriverWait"
   ]
  },
  {
   "cell_type": "code",
   "execution_count": 2,
   "id": "17728833-58fa-43f3-b082-80fd63d91e2d",
   "metadata": {},
   "outputs": [],
   "source": [
    "chrome_options = Options()\n",
    "#chrome_options.add_argument(\"--headless\") # enabling headless mode aka you won't see the browser --your choice\n",
    "chrome_options.add_argument(\"--disable-search-engine-choice-screen\")"
   ]
  },
  {
   "cell_type": "code",
   "execution_count": 42,
   "id": "76c3c237-848f-4a66-a721-f64046d03fc2",
   "metadata": {},
   "outputs": [],
   "source": [
    "driver = webdriver.Chrome(options=chrome_options)\n",
    "\n",
    "driver.maximize_window()\n",
    "\n",
    "driver.get(\"https://www.hochschulkompass.de/en/study-in-germany.html\")\n"
   ]
  },
  {
   "cell_type": "code",
   "execution_count": 43,
   "id": "fe327d41-ccb0-486a-a524-4213b293b93b",
   "metadata": {},
   "outputs": [],
   "source": [
    "# Step 3: Locate the Elements\n",
    "degree_programmes = driver.find_element(By.LINK_TEXT, \"Degree Programmes\")\n",
    "# Step 4: Create the ActionChains object\n",
    "actions = ActionChains(driver)\n",
    "# Step 5: Hover over 'Degree Programmes'\n",
    "actions.move_to_element(degree_programmes).perform()\n"
   ]
  },
  {
   "cell_type": "code",
   "execution_count": 45,
   "id": "93e965e3-5c2b-46d7-aa04-ba268bf0eadb",
   "metadata": {},
   "outputs": [],
   "source": [
    "study_in_germany_search = driver.find_element(By.LINK_TEXT, \"Study in Germany: Search\")\n",
    "actions.move_to_element(study_in_germany_search).perform()"
   ]
  },
  {
   "cell_type": "code",
   "execution_count": 46,
   "id": "6f8931ba-e6f2-4178-ad0f-9797954c7763",
   "metadata": {},
   "outputs": [],
   "source": [
    "advanced_degree_programme_search = driver.find_element(By.LINK_TEXT, \"Advanced Degree Programme Search\")\n",
    "actions.move_to_element(advanced_degree_programme_search).click().perform()"
   ]
  },
  {
   "cell_type": "code",
   "execution_count": 47,
   "id": "84f16f89-21c6-4021-bdd6-7437384e05f2",
   "metadata": {},
   "outputs": [],
   "source": [
    "driver.quit()"
   ]
  }
 ],
 "metadata": {
  "kernelspec": {
   "display_name": "Python 3 (ipykernel)",
   "language": "python",
   "name": "python3"
  },
  "language_info": {
   "codemirror_mode": {
    "name": "ipython",
    "version": 3
   },
   "file_extension": ".py",
   "mimetype": "text/x-python",
   "name": "python",
   "nbconvert_exporter": "python",
   "pygments_lexer": "ipython3",
   "version": "3.12.4"
  }
 },
 "nbformat": 4,
 "nbformat_minor": 5
}
