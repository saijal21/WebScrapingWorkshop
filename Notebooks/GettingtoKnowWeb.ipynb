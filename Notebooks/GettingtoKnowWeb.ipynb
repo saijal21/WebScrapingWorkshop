{
 "cells": [
  {
   "cell_type": "markdown",
   "id": "c5eb9063-ad15-4c8d-af8d-9b5325db5155",
   "metadata": {},
   "source": [
    "Steps:\n",
    "\n",
    "\n",
    "\n",
    "1) **Open a Website:** Visit a website like https://quotes.toscrape.com/ (or any site of your choice).\n",
    "2) **Inspect the Page:**\n",
    "   Right-click on the page and choose \"Inspect\" to open the browser’s Developer Tools.\n",
    "   Go to the \"Elements\" or \"Inspector\" tab to view the HTML structure of the page.\n",
    "   \n",
    "3) **Identify Key Elements:**\n",
    "4) \n",
    "   Task 1: Find the main heading (usually h1 tag) on the page and note down its tag and any class or id attributes.\n",
    "   \n",
    "   Task 2: Identify any paragraph (p) or div elements that contain key information.\n",
    "   \n",
    "   Task 3: Locate a link (a) on the page and note its href attribute, which stores the URL the link points to.\n",
    "\n",
    "   "
   ]
  },
  {
   "cell_type": "code",
   "execution_count": null,
   "id": "15973404-2974-4e0b-9acf-17537c74d589",
   "metadata": {},
   "outputs": [],
   "source": []
  }
 ],
 "metadata": {
  "kernelspec": {
   "display_name": "Python 3 (ipykernel)",
   "language": "python",
   "name": "python3"
  },
  "language_info": {
   "codemirror_mode": {
    "name": "ipython",
    "version": 3
   },
   "file_extension": ".py",
   "mimetype": "text/x-python",
   "name": "python",
   "nbconvert_exporter": "python",
   "pygments_lexer": "ipython3",
   "version": "3.12.4"
  }
 },
 "nbformat": 4,
 "nbformat_minor": 5
}
