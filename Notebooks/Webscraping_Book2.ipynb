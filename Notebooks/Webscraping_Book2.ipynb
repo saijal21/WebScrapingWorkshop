{
 "cells": [
  {
   "cell_type": "code",
   "execution_count": 1,
   "id": "ea27c311-bf73-4e2f-b644-3735789f6324",
   "metadata": {},
   "outputs": [],
   "source": [
    "from selenium import webdriver\n",
    "from selenium.webdriver.common.keys import Keys\n",
    "from selenium.webdriver.common.by import By\n",
    "from bs4 import BeautifulSoup\n",
    "import time\n",
    "from get_chrome_driver import GetChromeDriver\n",
    "from selenium.webdriver.chrome.options import Options"
   ]
  },
  {
   "cell_type": "code",
   "execution_count": 2,
   "id": "bc0d78d7-5170-4702-8366-c75c49d4346e",
   "metadata": {},
   "outputs": [
    {
     "data": {
      "text/plain": [
       "'C:/Users/shahania/Documents/Phd/HERSS Summer School/chromedriver/128.0.6613.84/bin'"
      ]
     },
     "execution_count": 2,
     "metadata": {},
     "output_type": "execute_result"
    }
   ],
   "source": [
    "get_driver = GetChromeDriver()\n",
    "get_driver.install()"
   ]
  },
  {
   "cell_type": "code",
   "execution_count": 2,
   "id": "2faaf7c1-8c0f-4751-a9ed-f1affccde113",
   "metadata": {},
   "outputs": [],
   "source": [
    "chrome_options = Options()\n",
    "chrome_options.add_argument(\"--disable-search-engine-choice-screen\")"
   ]
  },
  {
   "cell_type": "code",
   "execution_count": 18,
   "id": "0f86c5f6-b24f-4785-aa9d-2be338bd97c0",
   "metadata": {},
   "outputs": [],
   "source": [
    "driver = webdriver.Chrome(options=chrome_options)"
   ]
  },
  {
   "cell_type": "code",
   "execution_count": 19,
   "id": "b8890d25-d35b-461e-b4ac-1b0dab5f28c0",
   "metadata": {},
   "outputs": [],
   "source": [
    "driver.get(\"https://www.goodreads.com/\")"
   ]
  },
  {
   "cell_type": "code",
   "execution_count": 5,
   "id": "874249f2-8cb1-4ee7-a6bd-c0b08ddb2688",
   "metadata": {},
   "outputs": [],
   "source": [
    "search_bar = driver.find_element(By.ID, \"sitesearch_field\")"
   ]
  },
  {
   "cell_type": "code",
   "execution_count": 6,
   "id": "25a83c9a-8e87-49d7-a63c-65b5c868d47c",
   "metadata": {},
   "outputs": [],
   "source": [
    "search_bar.send_keys(\"J.K. Rowling\")"
   ]
  },
  {
   "cell_type": "code",
   "execution_count": 7,
   "id": "696471bd-be6c-4bba-8001-6479d95a05dc",
   "metadata": {},
   "outputs": [],
   "source": [
    "search_bar.send_keys(Keys.RETURN)"
   ]
  },
  {
   "cell_type": "code",
   "execution_count": 8,
   "id": "c0ea5184-c24a-4e2c-952a-77b837041c42",
   "metadata": {},
   "outputs": [],
   "source": [
    "# Wait for the results page to load (adjust sleep time if needed)\n",
    "time.sleep(3)"
   ]
  },
  {
   "cell_type": "code",
   "execution_count": 9,
   "id": "7b98f89f-28fb-4285-915e-15cdedec33cd",
   "metadata": {},
   "outputs": [],
   "source": [
    "soup = BeautifulSoup(driver.page_source, 'html.parser')"
   ]
  },
  {
   "cell_type": "code",
   "execution_count": null,
   "id": "a0831a7f-6c05-4cf1-8416-3e60bafc9a37",
   "metadata": {},
   "outputs": [],
   "source": [
    "soup"
   ]
  },
  {
   "cell_type": "code",
   "execution_count": 11,
   "id": "3b23efb5-cddf-4f1a-832d-e51773875bdd",
   "metadata": {},
   "outputs": [],
   "source": [
    "# For demonstration, let's extract the titles of the first few search results\n",
    "book_titles = soup.find_all('a', class_='bookTitle')"
   ]
  },
  {
   "cell_type": "code",
   "execution_count": null,
   "id": "8407789f-14ca-49df-a398-4b759670b6e3",
   "metadata": {},
   "outputs": [],
   "source": [
    "book_titles"
   ]
  },
  {
   "cell_type": "code",
   "execution_count": 12,
   "id": "e324bada-8596-48fe-8f02-9d28251e2c5f",
   "metadata": {},
   "outputs": [
    {
     "name": "stdout",
     "output_type": "stream",
     "text": [
      "Book 1: Harry Potter and the Cursed Child: Parts One and Two (Harry Potter, #8)\n",
      "Book 2: Harry Potter and the Sorcerer’s Stone (Harry Potter, #1)\n",
      "Book 3: Harry Potter and the Prisoner of Azkaban (Harry Potter, #3)\n",
      "Book 4: Harry Potter and the Order of the Phoenix (Harry Potter, #5)\n",
      "Book 5: Harry Potter and the Chamber of Secrets (Harry Potter, #2)\n",
      "Book 6: Harry Potter and the Deathly Hallows (Harry Potter, #7)\n",
      "Book 7: Harry Potter And The Order Of Phoenix: Book 5 --- A Summary About This Novel Of J.K Rowling!! (Harry Potter And The Order Of Phoenix: Book 5 -- A Detailed Summary)\n",
      "Book 8: Harry Potter and the Goblet of Fire (Harry Potter, #4)\n",
      "Book 9: Harry Potter and the Half-Blood Prince (Harry Potter, #6)\n",
      "Book 10: Harry Potter And The Deathly Hallows: Book 7-- A Detailed Summary About This Book Of J.K. Rowling! And Much More!!\n"
     ]
    }
   ],
   "source": [
    "for i, title in enumerate(book_titles, start=1):\n",
    "    print(f\"Book {i}: {title.get_text(strip=True)}\")"
   ]
  },
  {
   "cell_type": "code",
   "execution_count": 13,
   "id": "9a01754d-07b0-4dfd-b330-cce77cbe2b6f",
   "metadata": {},
   "outputs": [],
   "source": [
    "driver.quit()"
   ]
  },
  {
   "cell_type": "markdown",
   "id": "90a51f78-acb1-4eea-8eeb-1c29c8379600",
   "metadata": {},
   "source": [
    "**Understanding different elements**"
   ]
  },
  {
   "cell_type": "markdown",
   "id": "56f4a2b7-dfe6-43f2-aeba-791a88f9377f",
   "metadata": {},
   "source": [
    "**By.NAME**"
   ]
  },
  {
   "cell_type": "code",
   "execution_count": 3,
   "id": "5b5c4100-db43-4722-931d-381463760fd1",
   "metadata": {},
   "outputs": [],
   "source": [
    "driver = webdriver.Chrome(options=chrome_options)\n",
    "driver.get(\"https://www.hochschulkompass.de/en/study-in-germany.html\")"
   ]
  },
  {
   "cell_type": "code",
   "execution_count": 7,
   "id": "b0e8a65f-c362-42e2-bb0c-7a11d4b78cbe",
   "metadata": {},
   "outputs": [],
   "source": [
    "search_input = driver.find_element(By.NAME, \"tx_szhrksearch_pi1[fach]\")\n",
    "search_input.send_keys(\"Computer Science\")"
   ]
  },
  {
   "cell_type": "code",
   "execution_count": 8,
   "id": "5cfc0f8f-a5b2-4363-8b49-fdd0b87023cc",
   "metadata": {},
   "outputs": [],
   "source": [
    "search_input.send_keys(Keys.RETURN)\n",
    "\n",
    "# Wait for the results page to load\n",
    "time.sleep(3)"
   ]
  },
  {
   "cell_type": "markdown",
   "id": "17d46cec-6a09-4c33-a11a-6d5b365f23ab",
   "metadata": {},
   "source": [
    "**By.XPATH**"
   ]
  },
  {
   "cell_type": "code",
   "execution_count": 10,
   "id": "fa687ea0-80da-464d-a4cb-bea7a663af0a",
   "metadata": {},
   "outputs": [
    {
     "name": "stdout",
     "output_type": "stream",
     "text": [
      "First result text: Impressum/legal notice\n"
     ]
    }
   ],
   "source": [
    "driver.get(\"https://www.hochschulkompass.de/en/study-in-germany.html\")\n",
    "first_result = driver.find_element(By.XPATH, \"//a[contains(@href, 'legal-notice')]\")\n",
    "print(\"First result text:\", first_result.text)"
   ]
  },
  {
   "cell_type": "markdown",
   "id": "313736dd-0ead-47b0-803b-388857d5d7bf",
   "metadata": {},
   "source": [
    "**By.LINK_TEXT**"
   ]
  },
  {
   "cell_type": "code",
   "execution_count": 12,
   "id": "41e874d0-0fbd-4542-b258-d950ba7e00c4",
   "metadata": {},
   "outputs": [
    {
     "name": "stdout",
     "output_type": "stream",
     "text": [
      "Link text found: http://www.forschungslandkarte.de/en/landkarte.html\n"
     ]
    }
   ],
   "source": [
    "link_text_example = \"Research Map\"  # Replace with actual link text if needed\n",
    "search_degree_link = driver.find_element(By.LINK_TEXT, link_text_example)\n",
    "print(\"Link text found:\", search_degree_link.get_attribute('href'))"
   ]
  }
 ],
 "metadata": {
  "kernelspec": {
   "display_name": "Python 3 (ipykernel)",
   "language": "python",
   "name": "python3"
  },
  "language_info": {
   "codemirror_mode": {
    "name": "ipython",
    "version": 3
   },
   "file_extension": ".py",
   "mimetype": "text/x-python",
   "name": "python",
   "nbconvert_exporter": "python",
   "pygments_lexer": "ipython3",
   "version": "3.12.4"
  }
 },
 "nbformat": 4,
 "nbformat_minor": 5
}
