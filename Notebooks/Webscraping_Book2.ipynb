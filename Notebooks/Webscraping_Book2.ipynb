{
 "cells": [
  {
   "cell_type": "code",
   "execution_count": 1,
   "id": "ea27c311-bf73-4e2f-b644-3735789f6324",
   "metadata": {},
   "outputs": [],
   "source": [
    "from selenium import webdriver\n",
    "from selenium.webdriver.common.keys import Keys\n",
    "from selenium.webdriver.common.by import By\n",
    "from bs4 import BeautifulSoup\n",
    "import time\n",
    "from get_chrome_driver import GetChromeDriver\n",
    "from selenium.webdriver.chrome.options import Options"
   ]
  },
  {
   "cell_type": "code",
   "execution_count": null,
   "id": "bc0d78d7-5170-4702-8366-c75c49d4346e",
   "metadata": {},
   "outputs": [],
   "source": [
    "get_driver = GetChromeDriver()\n",
    "get_driver.install()"
   ]
  },
  {
   "cell_type": "code",
   "execution_count": 2,
   "id": "2faaf7c1-8c0f-4751-a9ed-f1affccde113",
   "metadata": {},
   "outputs": [],
   "source": [
    "chrome_options = Options()\n",
    "chrome_options.add_argument(\"--disable-search-engine-choice-screen\")"
   ]
  },
  {
   "cell_type": "code",
   "execution_count": 3,
   "id": "0f86c5f6-b24f-4785-aa9d-2be338bd97c0",
   "metadata": {},
   "outputs": [],
   "source": [
    "driver = webdriver.Chrome(options=chrome_options)"
   ]
  },
  {
   "cell_type": "markdown",
   "id": "86b05c22-626f-4cef-bcfd-59d90ecaec77",
   "metadata": {},
   "source": [
    "**Static HTML**"
   ]
  },
  {
   "cell_type": "code",
   "execution_count": 4,
   "id": "17286e71-72cb-41bf-b0de-bee11d450d5f",
   "metadata": {},
   "outputs": [],
   "source": [
    "driver.get('C:\\\\Users\\\\shahania\\\\Documents\\\\Phd\\\\HERSS Summer School\\\\Selenium_Sample.html')"
   ]
  },
  {
   "cell_type": "code",
   "execution_count": 5,
   "id": "4ea1c72e-ee44-40bc-9702-86f6b02be485",
   "metadata": {},
   "outputs": [],
   "source": [
    "# Maximize the window to ensure all elements are visible\n",
    "driver.maximize_window()"
   ]
  },
  {
   "cell_type": "code",
   "execution_count": 6,
   "id": "1c305f7d-a106-4d09-b6d7-05be9c1112b8",
   "metadata": {},
   "outputs": [],
   "source": [
    "# Interact with radio buttons (favorite genre)\n",
    "fiction_radio = driver.find_element(By.ID, 'fiction')\n",
    "fantasy_radio = driver.find_element(By.ID, 'fantasy')\n",
    "\n",
    "# Select the Fiction genre\n",
    "fiction_radio.click()"
   ]
  },
  {
   "cell_type": "code",
   "execution_count": 7,
   "id": "690f8866-4182-4272-bb1b-32bcd6b5bbcf",
   "metadata": {},
   "outputs": [],
   "source": [
    "# Interact with checkboxes (preferred book formats)\n",
    "hardcover_checkbox = driver.find_element(By.ID, 'hardcover')\n",
    "ebook_checkbox = driver.find_element(By.ID, 'ebook')\n",
    "\n",
    "# Select Hardcover and E-book formats\n",
    "if not hardcover_checkbox.is_selected():\n",
    "    hardcover_checkbox.click()\n",
    "if not ebook_checkbox.is_selected():\n",
    "    ebook_checkbox.click()"
   ]
  },
  {
   "cell_type": "code",
   "execution_count": 8,
   "id": "e3a003f5-c010-4cc5-880c-0ed354149816",
   "metadata": {},
   "outputs": [],
   "source": [
    "# Interact with the text area for favorite author\n",
    "favorite_author_text_area = driver.find_element(By.ID, 'favorite_author')\n",
    "favorite_author_text_area.send_keys('J.K. Rowling')\n",
    "\n",
    "# Interact with the text area for comments\n",
    "comments_text_area = driver.find_element(By.ID, 'comments')\n",
    "comments_text_area.send_keys('I love reading fiction and fantasy books, especially during the weekends.')"
   ]
  },
  {
   "cell_type": "code",
   "execution_count": null,
   "id": "9b4f3f4c-ccc5-4feb-b749-70dcdc1d7337",
   "metadata": {},
   "outputs": [],
   "source": [
    "# Submit the form (this will redirect to Goodreads)\n",
    "submit_button = driver.find_element(By.XPATH, \"//button[@type='submit']\")\n",
    "submit_button.click()\n",
    "\n",
    "# Wait for a few seconds to see the redirection\n",
    "time.sleep(5)\n",
    "\n",
    "# Verify if we landed on Goodreads (check URL)\n",
    "current_url = driver.current_url\n",
    "print(f\"Current URL: {current_url}\")\n",
    "\n",
    "# Close the browser\n",
    "driver.quit()"
   ]
  },
  {
   "cell_type": "markdown",
   "id": "73570f6e-46eb-47dd-bd91-39d5d1006800",
   "metadata": {},
   "source": [
    "**Website**"
   ]
  },
  {
   "cell_type": "code",
   "execution_count": 19,
   "id": "b8890d25-d35b-461e-b4ac-1b0dab5f28c0",
   "metadata": {},
   "outputs": [],
   "source": [
    "driver.get(\"https://www.goodreads.com/\")"
   ]
  },
  {
   "cell_type": "code",
   "execution_count": 5,
   "id": "874249f2-8cb1-4ee7-a6bd-c0b08ddb2688",
   "metadata": {},
   "outputs": [],
   "source": [
    "search_bar = driver.find_element(By.ID, \"sitesearch_field\")"
   ]
  },
  {
   "cell_type": "code",
   "execution_count": 6,
   "id": "25a83c9a-8e87-49d7-a63c-65b5c868d47c",
   "metadata": {},
   "outputs": [],
   "source": [
    "search_bar.send_keys(\"J.K. Rowling\")"
   ]
  },
  {
   "cell_type": "code",
   "execution_count": 7,
   "id": "696471bd-be6c-4bba-8001-6479d95a05dc",
   "metadata": {},
   "outputs": [],
   "source": [
    "search_bar.send_keys(Keys.RETURN)"
   ]
  },
  {
   "cell_type": "code",
   "execution_count": 8,
   "id": "c0ea5184-c24a-4e2c-952a-77b837041c42",
   "metadata": {},
   "outputs": [],
   "source": [
    "# Wait for the results page to load (adjust sleep time if needed)\n",
    "time.sleep(3)"
   ]
  },
  {
   "cell_type": "code",
   "execution_count": 9,
   "id": "7b98f89f-28fb-4285-915e-15cdedec33cd",
   "metadata": {},
   "outputs": [],
   "source": [
    "soup = BeautifulSoup(driver.page_source, 'html.parser')"
   ]
  },
  {
   "cell_type": "code",
   "execution_count": null,
   "id": "a0831a7f-6c05-4cf1-8416-3e60bafc9a37",
   "metadata": {},
   "outputs": [],
   "source": [
    "soup"
   ]
  },
  {
   "cell_type": "code",
   "execution_count": 11,
   "id": "3b23efb5-cddf-4f1a-832d-e51773875bdd",
   "metadata": {},
   "outputs": [],
   "source": [
    "# For demonstration, let's extract the titles of the first few search results\n",
    "book_titles = soup.find_all('a', class_='bookTitle')"
   ]
  },
  {
   "cell_type": "code",
   "execution_count": null,
   "id": "8407789f-14ca-49df-a398-4b759670b6e3",
   "metadata": {},
   "outputs": [],
   "source": [
    "book_titles"
   ]
  },
  {
   "cell_type": "code",
   "execution_count": null,
   "id": "e324bada-8596-48fe-8f02-9d28251e2c5f",
   "metadata": {},
   "outputs": [],
   "source": [
    "for i, title in enumerate(book_titles, start=1):\n",
    "    print(f\"Book {i}: {title.get_text(strip=True)}\")"
   ]
  },
  {
   "cell_type": "code",
   "execution_count": 3,
   "id": "9a01754d-07b0-4dfd-b330-cce77cbe2b6f",
   "metadata": {},
   "outputs": [],
   "source": [
    "driver.quit()"
   ]
  },
  {
   "cell_type": "markdown",
   "id": "90a51f78-acb1-4eea-8eeb-1c29c8379600",
   "metadata": {},
   "source": [
    "**Understanding different elements**"
   ]
  },
  {
   "cell_type": "markdown",
   "id": "56f4a2b7-dfe6-43f2-aeba-791a88f9377f",
   "metadata": {},
   "source": [
    "**By.NAME**"
   ]
  },
  {
   "cell_type": "code",
   "execution_count": 3,
   "id": "5b5c4100-db43-4722-931d-381463760fd1",
   "metadata": {},
   "outputs": [],
   "source": [
    "driver = webdriver.Chrome(options=chrome_options)\n",
    "driver.get(\"https://www.hochschulkompass.de/en/study-in-germany.html\")"
   ]
  },
  {
   "cell_type": "code",
   "execution_count": 7,
   "id": "b0e8a65f-c362-42e2-bb0c-7a11d4b78cbe",
   "metadata": {},
   "outputs": [],
   "source": [
    "search_input = driver.find_element(By.NAME, \"tx_szhrksearch_pi1[fach]\")\n",
    "search_input.send_keys(\"Computer Science\")"
   ]
  },
  {
   "cell_type": "code",
   "execution_count": 8,
   "id": "5cfc0f8f-a5b2-4363-8b49-fdd0b87023cc",
   "metadata": {},
   "outputs": [],
   "source": [
    "search_input.send_keys(Keys.RETURN)\n",
    "\n",
    "# Wait for the results page to load\n",
    "time.sleep(3)"
   ]
  },
  {
   "cell_type": "markdown",
   "id": "17d46cec-6a09-4c33-a11a-6d5b365f23ab",
   "metadata": {},
   "source": [
    "**By.XPATH**"
   ]
  },
  {
   "cell_type": "code",
   "execution_count": null,
   "id": "fa687ea0-80da-464d-a4cb-bea7a663af0a",
   "metadata": {},
   "outputs": [],
   "source": [
    "driver.get(\"https://www.hochschulkompass.de/en/study-in-germany.html\")\n",
    "first_result = driver.find_element(By.XPATH, \"//a[contains(@href, 'legal-notice')]\")\n",
    "print(\"First result text:\", first_result.text)"
   ]
  },
  {
   "cell_type": "markdown",
   "id": "313736dd-0ead-47b0-803b-388857d5d7bf",
   "metadata": {},
   "source": [
    "**By.LINK_TEXT**"
   ]
  },
  {
   "cell_type": "code",
   "execution_count": null,
   "id": "41e874d0-0fbd-4542-b258-d950ba7e00c4",
   "metadata": {},
   "outputs": [],
   "source": [
    "link_text_example = \"Research Map\"  # Replace with actual link text if needed\n",
    "search_degree_link = driver.find_element(By.LINK_TEXT, link_text_example)\n",
    "print(\"Link text found:\", search_degree_link.get_attribute('href'))"
   ]
  }
 ],
 "metadata": {
  "kernelspec": {
   "display_name": "Python 3 (ipykernel)",
   "language": "python",
   "name": "python3"
  },
  "language_info": {
   "codemirror_mode": {
    "name": "ipython",
    "version": 3
   },
   "file_extension": ".py",
   "mimetype": "text/x-python",
   "name": "python",
   "nbconvert_exporter": "python",
   "pygments_lexer": "ipython3",
   "version": "3.12.4"
  }
 },
 "nbformat": 4,
 "nbformat_minor": 5
}
